{
 "cells": [
  {
   "attachments": {},
   "cell_type": "markdown",
   "metadata": {},
   "source": [
    "# Custom binary snow maps with camera traps"
   ]
  },
  {
   "attachments": {},
   "cell_type": "markdown",
   "metadata": {},
   "source": [
    "In this chapter we will:\n",
    "- identify the need for satellite-derived binary snow maps\n",
    "- describe the potential of remote cameras to customize satellite-derived snow maps\n",
    "- present the objectives and next steps for using cameras in tandem with satellites"
   ]
  },
  {
   "attachments": {},
   "cell_type": "markdown",
   "metadata": {},
   "source": [
    "## Motivation\n",
    "\n",
    "Remote sensing from satellites enable global and regional snow cover maps where *in situ* measurements may not be possible (Nolin, 2010). NASA's Moderate Resolution Imaging Spectroradiometer (MODIS) provides a 500-m, daily product that reports snow ranging from 0 (snow-free) to 100 (completely snow-covered) using the normalized difference snow index (NDSI) and other criteria. NDSI values are based on the high reflectance of snow in the visible band and low reflectance in the near-infrared band.\n",
    "\n",
    "An example of MODIS image from March 1, 2021 from Oslo, Norway is below."
   ]
  },
  {
   "attachments": {},
   "cell_type": "markdown",
   "metadata": {},
   "source": [
    "<img src=\"ntbk_data/oslo_modis_ndsi.png\" alt=\"oslo_modis_snow\" />"
   ]
  },
  {
   "attachments": {},
   "cell_type": "markdown",
   "metadata": {},
   "source": [
    "<font size=\"1\">*figure citation: MODIS satellite imagery from Google Earth Engine*</font>"
   ]
  },
  {
   "attachments": {},
   "cell_type": "markdown",
   "metadata": {},
   "source": [
    "While satellites report an NDSI index on a scale 0-100 that is not adjusted for vegetation cover or other environmental features, maps of snow cover presence and absence, or \"binary snow cover maps,\" simplify the algorithm to report where snow is or isn't. These maps provide information on snow cover that are useful for tracking snow melt and where animals move in relation to snow. For example, by deciding when there is and isn't snow, binary snow maps can help determine when the \"snow on\" and \"snow off\" date each season. These dates are useful for hydrology monitoring of snow melt timing as well as the timing of animal migrations. By adjusting for environmental features, they also allow us to compare for snow amounts across different areas. \n",
    "\n",
    "Below is an example image from Curk et al. 2020 for the presence of the snowy owl (blue dot), rough-legged buzzard (green dot), and peregrine falcon (red dot) in relation to snow presence (white background) and snow absence (green background) on three separate days in May 2016 in the Arctic. The authors used MODIS imagery for the snow data, using 50% as the cut-off for snow (>50%) or no-snow (<50%). While we won't go into it for this tutorial, the researchers modelled how wildlife spring migration timing changed in response to changes in snowmelt. "
   ]
  },
  {
   "attachments": {},
   "cell_type": "markdown",
   "metadata": {},
   "source": [
    "<img src=\"ntbk_data/wildlife_on_binary_snowmap.png\" style=\"width: 500px;\" alt=\"wildlife_bin_snow\" />"
   ]
  },
  {
   "attachments": {},
   "cell_type": "markdown",
   "metadata": {},
   "source": [
    "<font size=\"1\">*figure source: Curk et al. 2020*</font>"
   ]
  },
  {
   "attachments": {},
   "cell_type": "markdown",
   "metadata": {},
   "source": [
    "However, the current MODIS product no longer includes fractional snow-covered or binary snow-covered maps. Early MODIS snow-cover products categorized pixels as “snow” if the NDSI was >40. Later, a binary map developed from MOD10A2 categorized a pixel as “snow” if any pixel within an 8-day period had an NDSI value >10 (Hall et al., 2002). The lower threshold increased snow detection but at the cost of increased false positives. Now, the threshold for snow presence is considered region dependent (Thapa et al., 2019; Zhang et al., 2019), and the end-user is recommended to determine the threshold above which the corresponding pixel should be identified as snow covered based on the needs of the study and the environmental landscape. Given the utility of binary snow products for monitoring snow phenology and subsequent applicability to wildlife studies, more work is needed to develop daily binary snow maps for specific regions."
   ]
  },
  {
   "attachments": {},
   "cell_type": "markdown",
   "metadata": {},
   "source": [
    "## Cameras as the solution"
   ]
  },
  {
   "attachments": {},
   "cell_type": "markdown",
   "metadata": {},
   "source": [
    "We will show how we can use cameras deployed in remote locations for wildlife monitoring, often referred to as \"camera traps,\" to take pictures of more than just animals, but to provide the ground-based snow information to customize satellite maps as well. Below is a picture of a camera trap (left) and an example image that shows snow cover on the ground (right). We will be using a camera trap network based in Norway managed by the Norwegian Institute for Nature Research (NINA)."
   ]
  },
  {
   "attachments": {},
   "cell_type": "markdown",
   "metadata": {},
   "source": [
    "\n",
    "<img src=\"ntbk_data/camTrap_expimg.png\" style=\"width: 700px;\" alt=\"camTrap_expImg\" />\n"
   ]
  },
  {
   "attachments": {},
   "cell_type": "markdown",
   "metadata": {},
   "source": [
    "figure source: (left) camera trap as part of ScandCam network (photo credit: Catherine Breen), and (right) roe deer from ScandCam dataset. "
   ]
  },
  {
   "attachments": {},
   "cell_type": "markdown",
   "metadata": {},
   "source": [
    "## Objectives\n",
    "\n",
    "We will complete the following three objectives in this tutorial: \n",
    "- 1) Identify snow and no snow in wildlife camera trap images\n",
    "- 2) Conduct an Return Operating Curve Analysis to determine best satellite threshold \n",
    "- 3) Create binary snow map using custom threshold "
   ]
  },
  {
   "attachments": {},
   "cell_type": "markdown",
   "metadata": {},
   "source": [
    "<b> Next, we will prepare the camera trap and satellite dataset. </b>"
   ]
  }
 ],
 "metadata": {
  "kernelspec": {
   "display_name": "cv4e",
   "language": "python",
   "name": "python3"
  },
  "language_info": {
   "codemirror_mode": {
    "name": "ipython",
    "version": 3
   },
   "file_extension": ".py",
   "mimetype": "text/x-python",
   "name": "python",
   "nbconvert_exporter": "python",
   "pygments_lexer": "ipython3",
   "version": "3.8.13"
  },
  "orig_nbformat": 4,
  "vscode": {
   "interpreter": {
    "hash": "18c8a83839ab54cea1b05c10a00a7112ca56a675ec2461de8c8b43bf52970327"
   }
  }
 },
 "nbformat": 4,
 "nbformat_minor": 2
}
