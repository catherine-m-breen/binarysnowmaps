{
 "cells": [
  {
   "attachments": {},
   "cell_type": "markdown",
   "metadata": {},
   "source": [
    "## Conclusion\n",
    "\n",
    "Wildlife cameras can be used as ground truth tools to customize satellite products. Researchers should be aware that deriving their own binary thresholds is an important step for MODIS products. Future studies could employ this approach to create custom thresholds from cameras in their regions of interest."
   ]
  },
  {
   "attachments": {},
   "cell_type": "markdown",
   "metadata": {},
   "source": [
    "Conclusion\n",
    "Is ML the right tool for the research?/How to identify the best ML tool for my problem? Can a simple model be as good as a complex one? ML model discovery Do I have enough confidence to extrapolate the results? Is the model transferable?\n",
    "\n",
    "Discussion\n",
    "This chapter has two parts: lessons learnt and open questions.\n",
    "\n",
    "Learns learnt should summerize the new stuff we learn from this use case of AI. What new contribution does AI give to solve this problem? Is it good enough to achieve your expected goal? What part of work is unexpected before you dive in? Do you think the model can work in your production environment? etc.\n",
    "\n",
    "Open questions should focus on future possibilities like if your team wants to adopt this model, what else you should do to make it fully work? How should we better tackle the data bias problem? How should we address the generalization issue on spatial and temporal extent in practice?\n",
    "\n",
    "Please elaborate a little bit on these questions with your real thoughts, which will be very helpful for us to tell the final story to students."
   ]
  },
  {
   "attachments": {},
   "cell_type": "markdown",
   "metadata": {},
   "source": [
    "## Questions to think about: \n",
    "1. How might you replicate this in your region of interest? \n",
    "2. How might having more cameras in satellite pixel (more cameras within 500m2 in this case) affect the results? \n",
    "3. How might this be replicated with other satellites? What might we find at with satellites such as VIIRS that have finer-scale spatial resolutions? "
   ]
  },
  {
   "attachments": {},
   "cell_type": "markdown",
   "metadata": {},
   "source": [
    "## Further reading\n",
    "\n",
    "- Breen, C., Vuyovich, C., Odden, J., Hall, D., Prugh, L., 2023. Evaluating MODIS snow products using an extensive wildlife camera network. Remote Sensing of Environment 295, 113648. https://doi.org/10.1016/j.rse.2023.113648\n",
    "\n",
    "- code in R: https://github.com/catherine-m-breen/MODIS-Snow-Cover-to-Binary-Snow-Covered-Area/blob/main/R_Analysis\n",
    " "
   ]
  },
  {
   "attachments": {},
   "cell_type": "markdown",
   "metadata": {},
   "source": [
    "contact: Catherine Breen | cbreen@uw.edu"
   ]
  }
 ],
 "metadata": {
  "language_info": {
   "name": "python"
  },
  "orig_nbformat": 4
 },
 "nbformat": 4,
 "nbformat_minor": 2
}
