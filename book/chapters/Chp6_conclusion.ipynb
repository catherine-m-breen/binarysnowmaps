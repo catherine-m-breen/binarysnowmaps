{
 "cells": [
  {
   "attachments": {},
   "cell_type": "markdown",
   "metadata": {},
   "source": [
    "## Conclusion\n",
    "\n",
    "Here we labeled images from wildlife cameras as \"snow\" or \"no snow\" and used a ROC analysis to determine the best MODIS NDSI value to convert a MODIS NDSI snow map into a binary snow map. \n",
    "\n",
    "### Lessons Learned \n",
    "- The ROC analysis learned the best threshold from the dataset used, suggesting that future users could repeat this analysis using their own data on their region of interest.\n",
    "- The ROC analysis assumed equal weight between snow and no snow, but researchers could subsequently lower or raise the threshold depending on the research question. \n",
    "- There was some subjectivity to determining snow at intermediate snow values, so we recommend using daytime snow images \n",
    "\n",
    "### Future Work\n",
    "We labeled the images manually, but future work could explore automated labelling of snow presence and absence using machine learning. The dataset that we used in this case (n = ~8000 images) could serve as a training dataset for future classification models for snow or no snow. As mentioned earlier, there was some subjectivity in determining the snow presence or absence at intermediate snow values. Machine learning may also have more error at intermediate snow values, but they may be able to provide a \"first pass\" and label images that are complete snow-covered or complete snow-barren, reducing overall labelling time for the human user. \n",
    "\n",
    "### Questions to think about\n",
    "1. How might you replicate this in your region of interest? \n",
    "2. How might having more cameras in satellite pixel (more cameras within 500m2 in this case) affect the results? \n",
    "3. How might this be replicated with other satellites? What might we find at with satellites such as VIIRS that have finer-scale spatial resolutions? \n",
    "\n",
    "### Final Thoughts\n",
    "While wildlife cameras are installed to monitor wildlife, their potential to improve understandng in applications to other fields, like remote sensing, is growing, and they represent a new tool to understand our environment in a changing climate. "
   ]
  },
  {
   "attachments": {},
   "cell_type": "markdown",
   "metadata": {},
   "source": [
    "## Further reading\n",
    "\n",
    "- Breen, C., Vuyovich, C., Odden, J., Hall, D., Prugh, L., 2023. Evaluating MODIS snow products using an extensive wildlife camera network. Remote Sensing of Environment 295, 113648. https://doi.org/10.1016/j.rse.2023.113648\n",
    "\n",
    "- code in R: https://github.com/catherine-m-breen/MODIS-Snow-Cover-to-Binary-Snow-Covered-Area/blob/main/R_Analysis\n",
    " "
   ]
  },
  {
   "attachments": {},
   "cell_type": "markdown",
   "metadata": {},
   "source": [
    "contact: Catherine Breen | cbreen@uw.edu"
   ]
  }
 ],
 "metadata": {
  "language_info": {
   "name": "python"
  },
  "orig_nbformat": 4
 },
 "nbformat": 4,
 "nbformat_minor": 2
}
