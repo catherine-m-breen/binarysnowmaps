{
 "cells": [
  {
   "attachments": {},
   "cell_type": "markdown",
   "metadata": {
    "tags": []
   },
   "source": [
    "# About the GeoSMART Use Case Library\n",
    "\n",
    "### General Overview\n",
    "\n",
    "The GeoSMART use case library is a collection of books demonstrating various machine learning workflows relevant to the geosciences, with the goal of fostering further adoption and growth in the space. Books in the library can be identified by the badge:\n",
    "\n",
    "[![GeoSMART Use Case](../img/use_case_badge.svg)](https://geo-smart.github.io/usecases)"
   ]
  },
  {
   "attachments": {},
   "cell_type": "markdown",
   "metadata": {},
   "source": [
    "### Contributing Content\n",
    "\n",
    "Tutorial content can be integrated into jupyterbooks in one of two ways:\n",
    "* Do it yourself (use this template book and add your content)\n",
    "* Provide use your content (preferably in a github repo) and we will integrate it\n",
    "\n",
    "The goal is to provide executable code on some platform. The contributor can choose between:\n",
    "* Binder\n",
    "* Google Colab\n",
    "* Free AWS (smaller cloud-based examples)\n",
    "If none of the above options work for you, please contact us directly to discuss further.\n",
    "\n",
    "[![Binder](https://mybinder.org/badge_logo.svg)](https://mybinder.org/v2/gh/geo-smart/use_case_template/HEAD?urlpath=lab)\n",
    "[![Open in Collab](https://colab.research.google.com/assets/colab-badge.svg)](https://colab.research.google.com/github/geo-smart/use_case_template)"
   ]
  },
  {
   "attachments": {},
   "cell_type": "markdown",
   "metadata": {},
   "source": [
    "### Technical Details\n",
    "\n",
    "The following section is dedicated to helping anyone who might be looking to use this template to contribute a use case. We recommend that you clone this navigating to use case template repository and clicking the \"Use this template\" button, the follow along locally. Much of the important information for succesufully using the template is in `README.md` files, and familiarizing oneself with the project structure is also important. \n",
    "\n",
    "The `.github` folder already contains the github actions that will handle CI/CD deployment to github pages. There is no need to create a gh-pages branch, the first run of the github actions should handle that automatically.\n",
    "\n",
    "The `binder` folder should store symlink(s) to environment configuration files in the `conda` folder. We recommend you use a package manager to both make your work more reproducible and make running your work with Binder as painless as possible. See the `conda/README.md` file for more detailed information.\n",
    "\n",
    "The `book` folder houses the content of the project. Inside there, you will find two very important files, `_config.yml` and `_toc.yml`. The config file tells jupyter how to compile your notebook to html (for display on github pages). You probably won't need to change anything in here except the title, author and website_url. The table of contents file will require some more changes. We have already laid out a basic project structure, and we recommend you at least look through it, even if you don't end up following it exactly. Chapters can contain more than one file, although if you want to make significant changes you should check [this](https://jupyterbook.org/en/stable/structure/toc.html) page out first."
   ]
  }
 ],
 "metadata": {
  "kernelspec": {
   "display_name": "Python 3",
   "language": "python",
   "name": "python3"
  },
  "language_info": {
   "codemirror_mode": {
    "name": "ipython",
    "version": 3
   },
   "file_extension": ".py",
   "mimetype": "text/x-python",
   "name": "python",
   "nbconvert_exporter": "python",
   "pygments_lexer": "ipython3",
   "version": "3.9.0"
  },
  "vscode": {
   "interpreter": {
    "hash": "c446eef832ec964573dc49f36fd16bdbed40cbfbefbf557bc2dc78d9e7968689"
   }
  }
 },
 "nbformat": 4,
 "nbformat_minor": 4
}
